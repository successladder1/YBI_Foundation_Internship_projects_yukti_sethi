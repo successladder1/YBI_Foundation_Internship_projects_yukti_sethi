{
  "nbformat": 4,
  "nbformat_minor": 0,
  "metadata": {
    "colab": {
      "provenance": [],
      "collapsed_sections": []
    },
    "kernelspec": {
      "name": "python3",
      "display_name": "Python 3"
    },
    "language_info": {
      "name": "python"
    }
  },
  "cells": [
    {
      "cell_type": "markdown",
      "source": [
        "# **Titanic dataset file path (url) has been provided to you as six different types of raw files**\n",
        "\n",
        "(a) csv \n",
        "\n",
        "(b) excel\n",
        "\n",
        "(c) json \n",
        "\n",
        "(d) html \n",
        "\n",
        "(e) tab delimit \n",
        "\n",
        "(f) semicolon delimit"
      ],
      "metadata": {
        "id": "0fFOOYiVIo5j"
      }
    },
    {
      "cell_type": "markdown",
      "source": [
        "File path of\n",
        "\n",
        "csv : https://github.com/ybifoundation/Dataset/raw/main/Titanic.csv\n",
        "\n",
        "excel : https://github.com/ybifoundation/Dataset/raw/main/Titanic.xlsx\n",
        "\n",
        "json : https://github.com/ybifoundation/Dataset/raw/main/Titanic.json\n",
        "\n",
        "html : https://github.com/ybifoundation/Dataset/raw/main/Titanic.html\n",
        "\n",
        "tab : https://github.com/ybifoundation/Dataset/raw/main/Titanic.txt\n",
        "\n",
        "semicolon : https://github.com/ybifoundation/Dataset/raw/main/Titanic%20Semicolon.csv\n",
        "\n"
      ],
      "metadata": {
        "id": "Hb1cS64HI3yp"
      }
    }
  ]
}